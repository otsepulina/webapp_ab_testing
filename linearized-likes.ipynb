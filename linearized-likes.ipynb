{
 "cells": [
  {
   "cell_type": "code",
   "execution_count": 54,
   "id": "1c69cb93-7d09-405f-9db2-5ed3e9352c36",
   "metadata": {},
   "outputs": [],
   "source": [
    "import pandahouse\n",
    "import pandas as pd\n",
    "import seaborn as sns\n",
    "import matplotlib.pyplot as plt\n",
    "import numpy as np\n",
    "from scipy import stats \n",
    "from db_utils import get_connection\n",
    "\n",
    "%matplotlib inline"
   ]
  },
  {
   "cell_type": "code",
   "execution_count": 55,
   "id": "2f4403d6-d97a-4435-8111-cb80f891f69e",
   "metadata": {},
   "outputs": [],
   "source": [
    "connection = get_connection()"
   ]
  },
  {
   "cell_type": "code",
   "execution_count": 56,
   "id": "b7b259cf-1581-4931-8cf9-d4b829258aaf",
   "metadata": {},
   "outputs": [],
   "source": [
    "q = \"\"\"\n",
    "SELECT exp_group, \n",
    "    user_id,\n",
    "    sum(action = 'like') as likes,\n",
    "    sum(action = 'view') as views,\n",
    "    likes/views as ctr\n",
    "FROM {db}.feed_actions \n",
    "WHERE toDate(time) between '2022-10-03' and '2022-10-09'\n",
    "GROUP BY exp_group, user_id\n",
    "\"\"\"\n",
    "\n",
    "df = pandahouse.read_clickhouse(q, connection=connection)"
   ]
  },
  {
   "cell_type": "code",
   "execution_count": 57,
   "id": "499ad5b3-65fb-4931-bc9f-3904a322758e",
   "metadata": {},
   "outputs": [],
   "source": [
    "def get_linearized_likes(user_likes, user_views, CTRcontrol):\n",
    "    linearized_likes = user_likes - user_views * CTRcontrol\n",
    "    return linearized_likes"
   ]
  },
  {
   "cell_type": "code",
   "execution_count": 58,
   "id": "589efaf5-75d3-4c57-a903-c4b412c0c7d5",
   "metadata": {},
   "outputs": [],
   "source": [
    "CTRcontrol_group_0 = df[df.exp_group == 0].likes.sum()/df[df.exp_group == 0].views.sum()\n",
    "CTRcontrol_group_1 = df[df.exp_group == 1].likes.sum()/df[df.exp_group == 1].views.sum()"
   ]
  },
  {
   "cell_type": "markdown",
   "id": "8eb93bd2-ca12-4405-8468-16a4434bb44a",
   "metadata": {},
   "source": [
    "# 1 and 2 groups"
   ]
  },
  {
   "cell_type": "code",
   "execution_count": 59,
   "id": "12da7f27-8eb0-48ad-83a8-e71ecf200713",
   "metadata": {},
   "outputs": [],
   "source": [
    "group1 = df[df.exp_group == 1].copy() #control group\n",
    "group2 = df[df.exp_group == 2].copy() #treatment group"
   ]
  },
  {
   "cell_type": "code",
   "execution_count": 60,
   "id": "82b580a3-eb37-4b38-a0eb-7d92a3cada98",
   "metadata": {
    "tags": []
   },
   "outputs": [],
   "source": [
    "group1['linearized_likes'] = get_linearized_likes(group1.likes, group1.views, CTRcontrol_group_1)\n",
    "group2['linearized_likes'] = get_linearized_likes(group2.likes, group2.views, CTRcontrol_group_1)"
   ]
  },
  {
   "cell_type": "code",
   "execution_count": 61,
   "id": "e113c7d4-8fb9-4efe-aa07-46fe0bfcb236",
   "metadata": {},
   "outputs": [],
   "source": [
    "bins = np.linspace(df.ctr.min(), df.ctr.max(), 100)"
   ]
  },
  {
   "cell_type": "code",
   "execution_count": 62,
   "id": "3c8d70b9-ddc5-4fb0-a6b4-80499a2a4a08",
   "metadata": {},
   "outputs": [],
   "source": [
    "groups_1_2 = pd.concat([group1, group2])"
   ]
  },
  {
   "cell_type": "code",
   "execution_count": 63,
   "id": "e59b0e72-cc1b-4b68-9a2d-a9c6705bb279",
   "metadata": {},
   "outputs": [
    {
     "data": {
      "image/png": "[encoded data removed]",
      "text/plain": [
       "<Figure size 432x288 with 1 Axes>"
      ]
     },
     "metadata": {
      "needs_background": "light"
     },
     "output_type": "display_data"
    }
   ],
   "source": [
    "sns.histplot(data = groups_1_2, \n",
    "              x='ctr', \n",
    "              hue='exp_group', \n",
    "              palette = ['r', 'b'],\n",
    "              alpha=0.5,\n",
    "              bins = bins,\n",
    "              kde=False)\n",
    "_ = plt.xlabel('CTR')"
   ]
  },
  {
   "cell_type": "code",
   "execution_count": 64,
   "id": "aa1d9ada-d80e-4524-bc0c-88eb6563fffa",
   "metadata": {},
   "outputs": [
    {
     "data": {
      "image/png": "[encoded data removed]",
      "text/plain": [
       "<Figure size 432x288 with 1 Axes>"
      ]
     },
     "metadata": {
      "needs_background": "light"
     },
     "output_type": "display_data"
    }
   ],
   "source": [
    "sns.histplot(data = groups_1_2, \n",
    "              x='linearized_likes', \n",
    "              hue='exp_group', \n",
    "              palette = ['r', 'b'],\n",
    "              alpha=0.5,\n",
    "              bins = 100,\n",
    "              kde=False)\n",
    "_ = plt.xlabel('Linearized likes')"
   ]
  },
  {
   "cell_type": "markdown",
   "id": "a71e70ca-3d57-4600-887b-6555c9ae5c87",
   "metadata": {},
   "source": [
    "### Проведем тесты для полученных групп:"
   ]
  },
  {
   "cell_type": "code",
   "execution_count": 65,
   "id": "0a3fc4f8-f7c4-468d-a9bf-41dc3a9b8c97",
   "metadata": {},
   "outputs": [
    {
     "data": {
      "text/plain": [
       "MannwhitneyuResult(statistic=54534537.0, pvalue=9.404319579641738e-27)"
      ]
     },
     "execution_count": 65,
     "metadata": {},
     "output_type": "execute_result"
    }
   ],
   "source": [
    "#Mannwhitney test for linearized likes\n",
    "stats.mannwhitneyu(group1.linearized_likes, \n",
    "                   group2.linearized_likes,\n",
    "                   alternative = 'two-sided')"
   ]
  },
  {
   "cell_type": "code",
   "execution_count": 66,
   "id": "2f894ddb-79ae-422a-8876-555acd5a4fbc",
   "metadata": {},
   "outputs": [
    {
     "data": {
      "text/plain": [
       "MannwhitneyuResult(statistic=56601260.5, pvalue=6.0376484617779035e-56)"
      ]
     },
     "execution_count": 66,
     "metadata": {},
     "output_type": "execute_result"
    }
   ],
   "source": [
    "#Mannwhitney test for CTR\n",
    "stats.mannwhitneyu(group1.ctr, \n",
    "                   group2.ctr,\n",
    "                   alternative = 'two-sided')"
   ]
  },
  {
   "cell_type": "code",
   "execution_count": 67,
   "id": "93190898-9370-422a-b993-cfea1894e2d2",
   "metadata": {},
   "outputs": [
    {
     "data": {
      "text/plain": [
       "Ttest_indResult(statistic=6.122579994775974, pvalue=9.439432187037644e-10)"
      ]
     },
     "execution_count": 67,
     "metadata": {},
     "output_type": "execute_result"
    }
   ],
   "source": [
    "#T-test for linearized likes\n",
    "stats.ttest_ind(group1.linearized_likes, \n",
    "                group2.linearized_likes,\n",
    "                equal_var=False)"
   ]
  },
  {
   "cell_type": "code",
   "execution_count": 68,
   "id": "a1e6905d-5426-4b24-9ac9-29eac4291d62",
   "metadata": {},
   "outputs": [
    {
     "data": {
      "text/plain": [
       "Ttest_indResult(statistic=0.7094392041270485, pvalue=0.4780623130874935)"
      ]
     },
     "execution_count": 68,
     "metadata": {},
     "output_type": "execute_result"
    }
   ],
   "source": [
    "#T-test for CTR\n",
    "stats.ttest_ind(group1.ctr, \n",
    "                group2.ctr,\n",
    "                equal_var=False)"
   ]
  },
  {
   "cell_type": "markdown",
   "id": "31b4bc81-e081-4244-bb89-52bf75a44b31",
   "metadata": {},
   "source": [
    "Мы видим, что распределение линеаризированных лайков для второй группы приняло вид, более близкий к нормальному, но оно все также бимодально. T-test показал, что есть статистически значимое различие между группами, в отличие от T-теста, который мы применяли к метрике CTR. Линеаризация также привела к увеличению значения p-value для  теста Манна-Уитни, но оно все еще значительно меньше 0.05, что говорит о статистически значимых различиях между выборками. Но на основании анализа гистограммы, я бы также не рекомендовала раскатывать новый алгоритм на всех новых пользователей, т.к. для части пользователей значение метрики линеаризованных лайков стало явно хуже, нужно дорабатывать модель."
   ]
  },
  {
   "cell_type": "markdown",
   "id": "883a4d4e-e4f3-4853-a2f7-f3f75d49c3a2",
   "metadata": {},
   "source": [
    "# 0 and 3 groups"
   ]
  },
  {
   "cell_type": "code",
   "execution_count": 69,
   "id": "b6bb10ee-8297-4afd-b785-9d42a91ba4e3",
   "metadata": {},
   "outputs": [],
   "source": [
    "group0 = df[df.exp_group == 0].copy() #control group\n",
    "group3 = df[df.exp_group == 3].copy() #treatment group"
   ]
  },
  {
   "cell_type": "code",
   "execution_count": 70,
   "id": "0c19e616-d266-4508-a2cf-31fb42a3513e",
   "metadata": {},
   "outputs": [],
   "source": [
    "group0['linearized_likes'] = get_linearized_likes(group0.likes, group0.views, CTRcontrol_group_0)\n",
    "group3['linearized_likes'] = get_linearized_likes(group3.likes, group3.views, CTRcontrol_group_0)"
   ]
  },
  {
   "cell_type": "code",
   "execution_count": 71,
   "id": "1a28100d-f9e1-493f-bc6f-4c2281928cf7",
   "metadata": {},
   "outputs": [],
   "source": [
    "groups_0_3 = pd.concat([group0, group3])"
   ]
  },
  {
   "cell_type": "code",
   "execution_count": 72,
   "id": "58c2d987-4bf1-43e6-adb7-2be5d8846e37",
   "metadata": {},
   "outputs": [
    {
     "data": {
      "image/png": "[encoded data removed]",
      "text/plain": [
       "<Figure size 432x288 with 1 Axes>"
      ]
     },
     "metadata": {
      "needs_background": "light"
     },
     "output_type": "display_data"
    }
   ],
   "source": [
    "sns.histplot(data = groups_0_3, \n",
    "              x='ctr', \n",
    "              hue='exp_group', \n",
    "              palette = ['r', 'b'],\n",
    "              alpha=0.5,\n",
    "              bins = bins,\n",
    "              kde=False)\n",
    "_ = plt.xlabel('CTR')"
   ]
  },
  {
   "cell_type": "code",
   "execution_count": 73,
   "id": "2c974928-c274-4cc2-ac03-685dc0e65d3d",
   "metadata": {},
   "outputs": [
    {
     "data": {
      "image/png": "[encoded data removed]",
      "text/plain": [
       "<Figure size 432x288 with 1 Axes>"
      ]
     },
     "metadata": {
      "needs_background": "light"
     },
     "output_type": "display_data"
    }
   ],
   "source": [
    "sns.histplot(data = groups_0_3, \n",
    "              x='linearized_likes', \n",
    "              hue='exp_group', \n",
    "              palette = ['r', 'b'],\n",
    "              alpha=0.5,\n",
    "              bins = 100,\n",
    "              kde=False)\n",
    "_ = plt.xlabel('Linearized likes')"
   ]
  },
  {
   "cell_type": "markdown",
   "id": "35a797fe-c1ee-4b6e-a4cf-147a37385a15",
   "metadata": {},
   "source": [
    "### Проведем тесты для полученных групп:"
   ]
  },
  {
   "cell_type": "code",
   "execution_count": 74,
   "id": "7867b028-8602-45a1-a23b-b40fcefcc400",
   "metadata": {},
   "outputs": [
    {
     "data": {
      "text/plain": [
       "MannwhitneyuResult(statistic=43338326.0, pvalue=1.1517315029786597e-63)"
      ]
     },
     "execution_count": 74,
     "metadata": {},
     "output_type": "execute_result"
    }
   ],
   "source": [
    "#Mannwhitney test for linearized likes\n",
    "stats.mannwhitneyu(group0.linearized_likes, \n",
    "                   group3.linearized_likes,\n",
    "                   alternative = 'two-sided')"
   ]
  },
  {
   "cell_type": "code",
   "execution_count": 75,
   "id": "6d07e9c7-db68-4c10-b7e8-cec8742ae8dd",
   "metadata": {},
   "outputs": [
    {
     "data": {
      "text/plain": [
       "MannwhitneyuResult(statistic=43682792.0, pvalue=1.1952055473582936e-57)"
      ]
     },
     "execution_count": 75,
     "metadata": {},
     "output_type": "execute_result"
    }
   ],
   "source": [
    "#Mannwhitney test for CTR\n",
    "stats.mannwhitneyu(group0.ctr, \n",
    "                   group3.ctr,\n",
    "                   alternative = 'two-sided')"
   ]
  },
  {
   "cell_type": "code",
   "execution_count": 76,
   "id": "a755a580-fe57-4fac-899e-dde94f1482e2",
   "metadata": {},
   "outputs": [
    {
     "data": {
      "text/plain": [
       "Ttest_indResult(statistic=-15.214995460903827, pvalue=5.4914249479690016e-52)"
      ]
     },
     "execution_count": 76,
     "metadata": {},
     "output_type": "execute_result"
    }
   ],
   "source": [
    "#T-test for linearized likes\n",
    "stats.ttest_ind(group0.linearized_likes, \n",
    "                group3.linearized_likes,\n",
    "                equal_var=False)"
   ]
  },
  {
   "cell_type": "code",
   "execution_count": 77,
   "id": "7a6f8be7-1b58-4c01-a14c-b286b2be276f",
   "metadata": {},
   "outputs": [
    {
     "data": {
      "text/plain": [
       "Ttest_indResult(statistic=-13.896870721904069, pvalue=1.055849414662529e-43)"
      ]
     },
     "execution_count": 77,
     "metadata": {},
     "output_type": "execute_result"
    }
   ],
   "source": [
    "#T-test for CTR\n",
    "stats.ttest_ind(group0.ctr, \n",
    "                group3.ctr,\n",
    "                equal_var=False)"
   ]
  },
  {
   "cell_type": "markdown",
   "id": "54f74e6d-cc8d-4c58-8cff-4bd6b00bcc0f",
   "metadata": {},
   "source": [
    "По результатам применения тестов для 0 и 3 группы мы видим, что линеаризация привела к уменьшению p-value как для T-теста, так и для теста Манна-Уитни. Различия между выборками статистически значимы."
   ]
  }
 ],
 "metadata": {
  "kernelspec": {
   "display_name": "Python 3 (ipykernel)",
   "language": "python",
   "name": "python3"
  },
  "language_info": {
   "codemirror_mode": {
    "name": "ipython",
    "version": 3
   },
   "file_extension": ".py",
   "mimetype": "text/x-python",
   "name": "python",
   "nbconvert_exporter": "python",
   "pygments_lexer": "ipython3",
   "version": "3.8.10"
  }
 },
 "nbformat": 4,
 "nbformat_minor": 5
}
